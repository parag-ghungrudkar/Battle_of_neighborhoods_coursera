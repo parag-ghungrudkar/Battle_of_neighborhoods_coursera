{
  "nbformat": 4,
  "nbformat_minor": 0,
  "metadata": {
    "colab": {
      "name": "Untitled2.ipynb",
      "provenance": [],
      "authorship_tag": "ABX9TyNomf+4Tma1lOUwjposqZgL",
      "include_colab_link": true
    },
    "kernelspec": {
      "name": "python3",
      "display_name": "Python 3"
    }
  },
  "cells": [
    {
      "cell_type": "markdown",
      "metadata": {
        "id": "view-in-github",
        "colab_type": "text"
      },
      "source": [
        "<a href=\"https://colab.research.google.com/github/parag-ghungrudkar/Coursera_Capstone/blob/main/Coursera_capstone_project.ipynb\" target=\"_parent\"><img src=\"https://colab.research.google.com/assets/colab-badge.svg\" alt=\"Open In Colab\"/></a>"
      ]
    },
    {
      "cell_type": "markdown",
      "metadata": {
        "id": "HxnTQJ0SSnnK"
      },
      "source": [
        "## IBM Data Science Capstone Project\r\n",
        "###### The Battle of neighborhood: The business object of this project is to cluster neighborhood with similar venues together. Further explanation will be detailed in this ...placeholder"
      ]
    },
    {
      "cell_type": "markdown",
      "metadata": {
        "id": "qV3iy_-9Tc3T"
      },
      "source": [
        "###Part 1:\r\n",
        "Creating a notebook for the project. I am using google colab for the purpose."
      ]
    },
    {
      "cell_type": "code",
      "metadata": {
        "id": "M9ETkyvNkGK0"
      },
      "source": [
        "#importing the required libraries\r\n",
        "import pandas as pd\r\n",
        "import numpy as np"
      ],
      "execution_count": null,
      "outputs": []
    },
    {
      "cell_type": "code",
      "metadata": {
        "id": "ptS0Ss9ukgTZ"
      },
      "source": [
        "#printing the required string\r\n",
        "print('Hello capstone project coursera')"
      ],
      "execution_count": null,
      "outputs": []
    },
    {
      "cell_type": "markdown",
      "metadata": {
        "id": "1QeJnCelT3re"
      },
      "source": [
        "## Part 2:\r\n",
        "\r\n",
        "1. Created pandas dataframe for the neighborhood in Toronto using web scrapping\r\n",
        "2. Found nearby venues for each neighborhood using FourSquare API\r\n",
        "3. One hot encoding for categories\r\n",
        "4. Clustering analysis of the neighborhood"
      ]
    },
    {
      "cell_type": "code",
      "metadata": {
        "id": "p13Ec-tTUxKg"
      },
      "source": [
        ""
      ],
      "execution_count": null,
      "outputs": []
    }
  ]
}