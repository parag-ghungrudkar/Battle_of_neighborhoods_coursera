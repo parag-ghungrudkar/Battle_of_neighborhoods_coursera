{
  "nbformat": 4,
  "nbformat_minor": 0,
  "metadata": {
    "colab": {
      "name": "Untitled2.ipynb",
      "provenance": [],
      "authorship_tag": "ABX9TyNbEILT+jS7KwzTozubLZ3r",
      "include_colab_link": true
    },
    "kernelspec": {
      "name": "python3",
      "display_name": "Python 3"
    }
  },
  "cells": [
    {
      "cell_type": "markdown",
      "metadata": {
        "id": "view-in-github",
        "colab_type": "text"
      },
      "source": [
        "<a href=\"https://colab.research.google.com/github/parag-ghungrudkar/Coursera_Capstone/blob/main/Coursera_capstone_project.ipynb\" target=\"_parent\"><img src=\"https://colab.research.google.com/assets/colab-badge.svg\" alt=\"Open In Colab\"/></a>"
      ]
    },
    {
      "cell_type": "markdown",
      "metadata": {
        "id": "UqToA7we69Rn"
      },
      "source": [
        "This Captsone Project for Data Science Professional certificate by IBM on Coursera"
      ]
    },
    {
      "cell_type": "code",
      "metadata": {
        "id": "M9ETkyvNkGK0"
      },
      "source": [
        "import pandas as pd\r\n",
        "import numpy as np"
      ],
      "execution_count": null,
      "outputs": []
    },
    {
      "cell_type": "code",
      "metadata": {
        "id": "ptS0Ss9ukgTZ"
      },
      "source": [
        "print('Hello capstone project coursera')"
      ],
      "execution_count": null,
      "outputs": []
    },
    {
      "cell_type": "code",
      "metadata": {
        "id": "GIPNmUH4kmdk",
        "outputId": "24911240-7850-481b-a261-637aead8805e",
        "colab": {
          "base_uri": "https://localhost:8080/"
        }
      },
      "source": [
        "print(\"to confirm whether the changes are being stored in github\")"
      ],
      "execution_count": 1,
      "outputs": [
        {
          "output_type": "stream",
          "text": [
            "to confirm whether the changes are being stored in github\n"
          ],
          "name": "stdout"
        }
      ]
    }
  ]
}